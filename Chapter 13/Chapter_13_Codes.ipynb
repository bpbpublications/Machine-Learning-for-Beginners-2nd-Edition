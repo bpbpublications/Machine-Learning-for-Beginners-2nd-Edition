{
  "nbformat": 4,
  "nbformat_minor": 0,
  "metadata": {
    "colab": {
      "provenance": []
    },
    "kernelspec": {
      "name": "python3",
      "display_name": "Python 3"
    },
    "language_info": {
      "name": "python"
    }
  },
  "cells": [
    {
      "cell_type": "code",
      "execution_count": null,
      "metadata": {
        "id": "85n0TI-IenaN"
      },
      "outputs": [],
      "source": [
        "import numpy as np\n",
        "import pandas as pd\n",
        "from sklearn.datasets import load_breast_cancer\n",
        "from sklearn.model_selection import train_test_split\n",
        "from sklearn.ensemble import RandomForestClassifier\n",
        "from sklearn import metrics\n",
        "Data = load_breast_cancer()\n",
        "X = Data.data\n",
        "y = Data.target\n",
        "print(X.shape, y.shape)\n",
        "X_train, X_test, y_train, y_test = train_test_split(X, y, test_size=0.3)\n",
        "clf = RandomForestClassifier(n_estimators=20, max_depth=3, max_features=\"log2\", bootstrap=\"True\")\n",
        "clf.fit(X_train, y_train)\n",
        "y_pred = clf.predict(X_test)\n",
        "print(\"Accuracy:\",metrics.accuracy_score(y_test, y_pred))\n",
        "clf = RandomForestClassifier(n_estimators=100, max_depth=3, max_features=\"log2\", bootstrap=\"True\")\n",
        "clf.fit(X_train, y_train)\n",
        "y_pred = clf.predict(X_test)\n",
        "print(\"Accuracy:\",metrics.accuracy_score(y_test, y_pred))\n"
      ]
    },
    {
      "cell_type": "code",
      "source": [
        "from sklearn.datasets import load_breast_cancer\n",
        "from sklearn.ensemble import AdaBoostClassifier\n",
        "from sklearn.tree import DecisionTreeClassifier\n",
        "from sklearn.model_selection import train_test_split\n",
        "from sklearn import metrics\n",
        "\n",
        "data = load_breast_cancer()\n",
        "X = data.data\n",
        "y = data.target\n",
        "print(X.shape, y.shape)\n",
        "clf = AdaBoostClassifier()\n",
        "clf = clf.fit(X_train, y_train)\n",
        "y_pred = clf.predict(X_test)\n",
        "print(\"Accuracy:\",metrics.accuracy_score(y_test, y_pred))\n"
      ],
      "metadata": {
        "id": "O5rTQJOleumY"
      },
      "execution_count": null,
      "outputs": []
    },
    {
      "cell_type": "code",
      "source": [
        "from sklearn.datasets import load_breast_cancer\n",
        "from sklearn.ensemble import GradientBoostingClassifier\n",
        "from sklearn.tree import DecisionTreeClassifier\n",
        "from sklearn.model_selection import train_test_split\n",
        "from sklearn import metrics\n",
        "import numpy as np\n",
        "data = load_breast_cancer()\n",
        "X = data.data\n",
        "y = data.target\n",
        "print(X.shape, y.shape)\n",
        "X_train, X_test, y_train, y_test = train_test_split(X, y, test_size=0.3, shuffle = True)\n",
        "arr = np.arange(1, 2, 0.1)\n",
        "for i in range(len(arr)):\n",
        "  clf = GradientBoostingClassifier(learning_rate=arr[i]).fit(X_train, y_train)\n",
        "  print(clf.score(X_test, y_test))\n"
      ],
      "metadata": {
        "id": "1MX2-cX6eur2"
      },
      "execution_count": null,
      "outputs": []
    },
    {
      "cell_type": "code",
      "source": [
        "xgb_model = xgb.XGBClassifier(objective=\"binary:logistic\", random_state=42)\n",
        "xgb_model = xgb_model.fit(X_test, y_test)\n",
        "y_pred = clf.predict(X_test)\n",
        "print(\"Accuracy:\",metrics.accuracy_score(y_test, y_pred)"
      ],
      "metadata": {
        "id": "w5X2MwkXeyn6"
      },
      "execution_count": null,
      "outputs": []
    },
    {
      "cell_type": "code",
      "source": [
        "import numpy as np\n",
        "import pandas as pd\n",
        "from sklearn.datasets import load_iris\n",
        "from sklearn.datasets import load_breast_cancer\n",
        "from sklearn.model_selection import train_test_split\n",
        "from sklearn.ensemble import RandomForestClassifier\n",
        "from sklearn.tree import DecisionTreeClassifier\n",
        "from sklearn import metrics\n",
        "Data = load_breast_cancer()\n",
        "X = Data.data\n",
        "y = Data.target\n",
        "print(X.shape, y.shape)\n",
        "X_train, X_test, y_train, y_test = train_test_split(X, y, test_size=0.3)\n",
        "clf = RandomForestClassifier(n_estimators=10, max_depth=3, max_features=\"log2\", bootstrap=\"True\")\n",
        "clf.fit(X_train, y_train)\n",
        "y_pred = clf.predict(X_test)\n",
        "print(\"Accuracy:\",metrics.accuracy_score(y_test, y_pred))\n"
      ],
      "metadata": {
        "id": "uBm_bA7_e41d"
      },
      "execution_count": null,
      "outputs": []
    },
    {
      "cell_type": "code",
      "source": [
        "#The dataset is loaded into google drive and read into a Data Frame:\n",
        "import pandas as pd\n",
        "import numpy as np\n",
        "df = pd.read_csv('/content/drive/MyDrive/audiologystandardized.txt.data', header=None)\n",
        "\n",
        "#Since the NAN values are represented using a ‘?’. The value count of ‘?’ is calculated using the following code:\n",
        "for i in range(df.shape[1]):\n",
        "  try:\n",
        "    print(i, end=' ->')\n",
        "    v=df[[i]].value_counts()['?']\n",
        "    print(v)\n",
        "  except:\n",
        "    print(i, 'No Nan')\n",
        "\n",
        "#We have dropped the 7th column since it contains 196 NAN’s this is followed by replacing the ‘?’ with ‘np.nan’ and then dropping the NAN’s.\n",
        "df.drop(df[[7]], inplace = True, axis= 1)\n",
        "df.replace('?', np.nan, inplace= True)\n",
        "df.dropna(inplace=True)\n",
        "\n",
        "#The samples having cochlear_unknown, cochlear_age ,normal_ear are taken using the following code:\n",
        "X = df[(df[70]=='cochlear_unknown') | (df[70]=='cochlear_age') | (df[70]=='normal_ear')]\n",
        "X.reset_index(inplace = True)\n"
      ],
      "metadata": {
        "id": "42KHoBLoe5og"
      },
      "execution_count": null,
      "outputs": []
    },
    {
      "cell_type": "code",
      "source": [],
      "metadata": {
        "id": "7wxObaOrfPmP"
      },
      "execution_count": null,
      "outputs": []
    }
  ]
}