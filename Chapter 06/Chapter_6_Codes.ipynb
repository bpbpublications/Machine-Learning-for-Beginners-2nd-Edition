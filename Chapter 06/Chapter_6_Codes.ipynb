{
  "nbformat": 4,
  "nbformat_minor": 0,
  "metadata": {
    "colab": {
      "provenance": []
    },
    "kernelspec": {
      "name": "python3",
      "display_name": "Python 3"
    },
    "language_info": {
      "name": "python"
    }
  },
  "cells": [
    {
      "cell_type": "code",
      "execution_count": null,
      "metadata": {
        "id": "pVxuT0QlBewr"
      },
      "outputs": [],
      "source": [
        "import numpy as np\n",
        "import matplotlib.pyplot as plt\n",
        "from numpy import genfromtxt\n",
        "import csv\n",
        "with open('F:\\Machine Learning\\Regression\\DataRegression.csv','r') as f:\n",
        "data = csv.reader(f)"
      ]
    },
    {
      "cell_type": "code",
      "source": [
        "def init_weights():\n",
        "  w=np.random.random(X.shape[1])\n",
        "  return w"
      ],
      "metadata": {
        "id": "Z5QNbWLIBg0j"
      },
      "execution_count": null,
      "outputs": []
    },
    {
      "cell_type": "code",
      "source": [
        "def normalize(Data):\n",
        "  mean_arr=[]\n",
        "  std_arr=[]\n",
        "  for i in range(Data.shape[1]):\n",
        "    col=Data[:,i]\n",
        "    s=np.std(col)\n",
        "    m=np.mean(col)\n",
        "    mean_arr.append(m)\n",
        "    std_arr.append(s)\n",
        "    #print('col ',i,' mean ',m,' std ',s)\n",
        "    for j in range(Data.shape[0]):\n",
        "      Data[j,i]=(Data[j,i]-m)/s\n",
        "      #print(Data)\n",
        "  return Data, mean_arr, std_arr\n"
      ],
      "metadata": {
        "id": "oDhL3U4WBpTM"
      },
      "execution_count": null,
      "outputs": []
    },
    {
      "cell_type": "code",
      "source": [
        "def train(X, y, w):\n",
        "  mse=0\n",
        "  for i in range(X.shape[0]):\n",
        "    x=X[i,:]\n",
        "    sum1=np.matmul(np.transpose(w),x)\n",
        "    diff=(sum1-y[i])\n",
        "    mse=(diff**2)\n",
        "    mse=np.sqrt(mse)\n",
        "    if(mse>0.01):\n",
        "      w=w-0.1*(diff)*x\n",
        "      #print(w)\n",
        "  return w\n"
      ],
      "metadata": {
        "id": "zPeKx087Bzdd"
      },
      "execution_count": null,
      "outputs": []
    },
    {
      "cell_type": "code",
      "source": [
        "def calMSE(X, y, w):\n",
        "  mse=0\n",
        "  for i in range(len(y)):\n",
        "    x=X[i,:]\n",
        "    sum1=np.matmul(np.transpose(w),x)\n",
        "    diff=(sum1-y[i])\n",
        "    mse+=(diff**2)\n",
        "    #print(mse)\n",
        "    mse=np.sqrt(mse)\n",
        "  plt.plot(mse_arr)\n",
        "  return(mse)\n"
      ],
      "metadata": {
        "id": "IdCwZfROB5Ul"
      },
      "execution_count": null,
      "outputs": []
    },
    {
      "cell_type": "code",
      "source": [
        "def verify(pred, mean_arr_y, std_arr_y):\n",
        "  for j in range(pred.shape[0]):\n",
        "    pred[j]=(pred[j]*std_arr[-1])+mean_arr[-1]\n",
        "    #print(pred)\n",
        "  return pred\n"
      ],
      "metadata": {
        "id": "O6fpREEpCCc6"
      },
      "execution_count": null,
      "outputs": []
    },
    {
      "cell_type": "code",
      "source": [
        "Data = genfromtxt('F:\\Machine Learning\\Regression\\DataRegression.csv', delimiter=',')\n",
        "Data,mean_arr, std_arr=normalize(Data)\n",
        "X, y=extractData(Data)\n",
        "w=init_weights()\n",
        "w=train(X, y, w)\n",
        "mse=calMSE(X, y, w)\n",
        "pred=np.matmul(X,w)\n",
        "predicted=verify(pred, w,mean_arr, std_arr)\n"
      ],
      "metadata": {
        "id": "AGTHVnmDCG3D"
      },
      "execution_count": null,
      "outputs": []
    },
    {
      "cell_type": "code",
      "source": [
        "#Experiment 1: Boston Housing Dataset, Linear Regression, 10-Fold Validation\n",
        "#1.\tImport requisite modules:\n",
        "import numpy as np\n",
        "from sklearn.linear_model import LinearRegression\n",
        "from sklearn.datasets import load_boston\n",
        "from sklearn.model_selection import train_test_split\n",
        "from sklearn.model_selection import KFold\n",
        "#2.\tLoad the data using the load_boston() function:\n",
        "boston=load_boston()\n",
        "X=boston.data\n",
        "y=boston.target\n",
        "#3.\tUse the following code to split the data into train-test, using the K-Fold validation. Find the mean squared error of each test case and find the average of the mse’s so obtained:\n",
        "kf=KFold(n_splits=5)\n",
        "kf.get_n_splits(X)\n",
        "mse_arr=[]\n",
        "for train_i,test_i in kf.split(X):\n",
        "  X_train,X_test=X[train_i],X[test_i]\n",
        "  y_train,y_test=y[train_i],y[test_i]\n",
        "  modal= LinearRegression().fit(X_train, y_train)\n",
        "  mse=0\n",
        "  for l in range(len(y_test)):\n",
        "    X_test_data=X_test[l,:]\n",
        "    y1=modal.predict([X_test_data])\n",
        "    d=y1-y_test[l]\n",
        "    mse=mse+(d**2)\n",
        "mse=mse//(y_test.shape[0])\n",
        "mse=np.sqrt(mse)\n",
        "mse_arr.append(mse)\n",
        "print(np.mean(mse_arr))\n"
      ],
      "metadata": {
        "id": "cgb4_UCrCKHM"
      },
      "execution_count": null,
      "outputs": []
    },
    {
      "cell_type": "code",
      "source": [
        "#Experiment 2: Boston Housing Dataset, Linear Regression, train-test split\n",
        "#1.\tImport requisite modules:\n",
        "import numpy as np\n",
        "from sklearn.linear_model import LinearRegression\n",
        "from sklearn.datasets import load_boston\n",
        "from sklearn.model_selection import train_test_split\n",
        "from sklearn.model_selection import KFold\n",
        "#2.\tLoad the data using the load_boston() function:\n",
        "boston=load_boston()\n",
        "X=boston.data\n",
        "y=boston.target\n",
        "#3.\tUse the following code to split the data into the train-test, using the K-fold validation. Find the mean squared error of each test case and find the average of the mse’s so obtained:\n",
        "X_train, X_test, y_train, y_test = train_test_split(X, y, test_size=0.33, random_state=42)\n",
        "modal= LinearRegression().fit(X_train, y_train)\n",
        "mse=0\n",
        "for l in range(len(y_test)):\n",
        "  X_test_data=X_test[l,:]\n",
        "  y1=modal.predict([X_test_data])\n",
        "  d=y1-y_test[l]\n",
        "  mse=mse+(d**2)\n",
        "mse=mse//(y_test.shape[0])\n",
        "mse=np.sqrt(mse)\n",
        "print(np.mean(mse))\n"
      ],
      "metadata": {
        "id": "MykliThBCebr"
      },
      "execution_count": null,
      "outputs": []
    },
    {
      "cell_type": "code",
      "source": [
        "from numpy import linalg\n",
        "from sklearn import model_selection\n",
        "Data=load_iris()\n",
        "X=Data.data[:100,:]\n",
        "y=Data.target[:100]\n",
        "X_train, X_test, y_train, y_test = model_selection.train_test_split(X, y, test_size=0.20, random_state=42)\n",
        "W=np.matmul(np.matmul(linalg.inv(np.matmul(np.transpose(X_train),X_train)),np.transpose(X_train)),y_train)\n"
      ],
      "metadata": {
        "id": "ERMn9OIbCwkQ"
      },
      "execution_count": null,
      "outputs": []
    },
    {
      "cell_type": "code",
      "source": [
        "Data=load_boston()\n",
        "X=Data.data\n",
        "y=Data.target\n",
        "X_train,X_test,y_train,y_test=model_selection.train_test_split(X,y,test_size=0.3)\n",
        "y_pred=[]\n",
        "for i in range(X_test.shape[0]):\n",
        "  x=X_test[i]\n",
        "  dist=[]\n",
        "  for j in range(X_train.shape[0]):\n",
        "    d=0\n",
        "    for k in range(X_train.shape[1]):\n",
        "      d+=((X_train[j,k]-X_test[i,k])**2)\n",
        "    d=np.sqrt(d)\n",
        "    dist.append(d)\n",
        "  index=np.argsort(dist)\n",
        "  mean=0\n",
        "  for t in range(5):\n",
        "      mean+=(y_train[index[t]])\n",
        "  mean=mean/5\n",
        "  y_pred.append(mean)\n"
      ],
      "metadata": {
        "id": "7IoKox00Cysy"
      },
      "execution_count": null,
      "outputs": []
    }
  ]
}