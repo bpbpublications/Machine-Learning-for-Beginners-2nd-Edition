{
  "nbformat": 4,
  "nbformat_minor": 0,
  "metadata": {
    "colab": {
      "provenance": []
    },
    "kernelspec": {
      "name": "python3",
      "display_name": "Python 3"
    },
    "language_info": {
      "name": "python"
    }
  },
  "cells": [
    {
      "cell_type": "code",
      "execution_count": null,
      "metadata": {
        "id": "8rHyRnH_2nue"
      },
      "outputs": [],
      "source": [
        "#Code 1 use the Boston housing price dataset and remove some values from the dataset.\n",
        "#Code 1\n",
        "#Importing libraries\n",
        "import numpy as np\n",
        "import pandas as pd\n",
        "from sklearn.impute import KNNImputer\n",
        "#Loading data\n",
        "df = pd.read_csv('/content/Boston.csv')\n",
        "y = df['medv']\n",
        "df.drop('medv', axis = 1, inplace = True)\n",
        "X = df\n",
        "print(X.shape, y.shape)\n",
        "print(df.isna().sum().sum())"
      ]
    },
    {
      "cell_type": "code",
      "source": [
        "#The missing value is then filled in Code2\n",
        "#Code 2\n",
        "df.isna().sum().sum()\n",
        "df_1 = df.bfill(axis ='columns')\n",
        "df_2 = df.ffill(axis ='columns')\n",
        "df_3 = df.fillna(df.mean())\n",
        "df_4 = df.fillna(df.median())\n",
        "df_5 = X\n",
        "imputer = KNNImputer()\n",
        "imputer.fit_transform(df_5)"
      ],
      "metadata": {
        "id": "6vRgYCJW2ttX"
      },
      "execution_count": null,
      "outputs": []
    },
    {
      "cell_type": "code",
      "source": [
        "#Min-Max normalization\n",
        "def min_maxScaler(X):\n",
        "  min=np.min(X, axis=0)\n",
        "  max=np.max(X, axis=0)\n",
        "  return((X-min)/(max-min))"
      ],
      "metadata": {
        "id": "BpF7CWPy2-ha"
      },
      "execution_count": null,
      "outputs": []
    }
  ]
}