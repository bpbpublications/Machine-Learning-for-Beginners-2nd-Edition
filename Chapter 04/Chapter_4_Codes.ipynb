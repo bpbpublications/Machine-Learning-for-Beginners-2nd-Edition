{
  "nbformat": 4,
  "nbformat_minor": 0,
  "metadata": {
    "colab": {
      "provenance": []
    },
    "kernelspec": {
      "name": "python3",
      "display_name": "Python 3"
    },
    "language_info": {
      "name": "python"
    }
  },
  "cells": [
    {
      "cell_type": "code",
      "execution_count": null,
      "metadata": {
        "id": "2_Fcxohr7DJz"
      },
      "outputs": [],
      "source": [
        "#Step 1: Import the following modules:\n",
        "import matplotlib.pyplot as plt\n",
        "import numpy as np\n",
        "from scipy import signal\n",
        "#Step 2: Ask the user to enter the amplitude and frequency of y=Asin⁡(2πft) and plot the signal:\n",
        "A=float(input('Enter amplitude\\t:'))\n",
        "f=int(input('Enter frequency\\t:'))\n",
        "t=np.linspace(-np.pi, np.pi,256)\n",
        "y=A*np.sin(2*np.pi*f*t)\n",
        "plt.plot(t,y)\n",
        "plt.show()\n",
        "#Step 3: Find the Fast Fourier Transform of the signal using np.fft:\n",
        "sp = np.fft.fft(y)\n",
        "freq = np.fft.fftfreq(y.shape[-1])\n",
        "plt.plot(freq, sp.real, freq, sp.imag)\n",
        "plt.show()"
      ]
    },
    {
      "cell_type": "code",
      "source": [
        "#Code:\n",
        "A1=float(input('Enter amplitude\\t:'))\n",
        "f1=int(input('Enter frequency\\t:'))\n",
        "t=np.linspace(-np.pi,np.pi,256)\n",
        "y1=A1*np.sin(2*np.pi*f1*t)\n",
        "A2=float(input('Enter amplitude\\t:'))\n",
        "f2=int(input('Enter frequency\\t:'))\n",
        "y2=A2*np.sin(2*np.pi*f2*t)\n",
        "y=y1+y2\n",
        "plt.plot(t,y)\n",
        "plt.show()"
      ],
      "metadata": {
        "id": "jV9Dvp_f7Nb9"
      },
      "execution_count": null,
      "outputs": []
    },
    {
      "cell_type": "code",
      "source": [
        "#Code:\n",
        "sp=np.fft.fft(y)\n",
        "freq=np.fft.fftfreq(y.shape[-1])\n",
        "plt.plot(freq, sp.real, freq, sp.imag)\n",
        "plt.show()\n",
        "f=np.linspace(-3,3,256)\n",
        "mod1=[np.sqrt((i.real**2+i.imag**2)) for i in sp]\n",
        "mod2=np.abs(sp)\n",
        "plt.plot(f,mod2)\n"
      ],
      "metadata": {
        "id": "aejKaCwY7iub"
      },
      "execution_count": null,
      "outputs": []
    },
    {
      "cell_type": "code",
      "source": [
        "#Code:\n",
        "A1=float(input('Enter amplitude\\t:'))\n",
        "f1=int(input('Enter frequency\\t:'))\n",
        "t=np.linspace(-np.pi,np.pi,256)\n",
        "y1=A1*np.sin(2*np.pi*f1*t)\n",
        "A2=float(input('Enter amplitude\\t:'))\n",
        "f2=int(input('Enter frequency\\t:'))\n",
        "y2=A2*np.sin(2*np.pi*f2*t)\n",
        "A3=float(input('Enter amplitude\\t:'))\n",
        "f3=int(input('Enter frequency\\t:'))\n",
        "y3=A3*np.sin(2*np.pi*f3*t)\n",
        "y=y1+y2+y3\n",
        "plt.plot(t,y)\n",
        "plt.show()\n"
      ],
      "metadata": {
        "id": "mpzXu0sC7nq7"
      },
      "execution_count": null,
      "outputs": []
    },
    {
      "cell_type": "code",
      "source": [
        "#The following code finds the Fourier Transform of this signal.\n",
        "#Code:\n",
        "sp = np.fft.fft(y)\n",
        "freq = np.fft.fftfreq(y.shape[-1])\n",
        "plt.plot(freq, sp.real, freq, sp.imag)\n",
        "plt.show()\n",
        "f=np.linspace(-3,3,256)\n",
        "mod1=[np.sqrt((i.real**2+i.imag**2)) for i in sp]\n",
        "mod2=np.abs(sp)\n",
        "plt.plot(f,mod2)\n"
      ],
      "metadata": {
        "id": "lkmc5kOE7v4d"
      },
      "execution_count": null,
      "outputs": []
    },
    {
      "cell_type": "code",
      "source": [
        "#Code:\n",
        "A=float(input('Enter amplitude\\t:'))\n",
        "f1=int(input('Enter frequency 1\\t:'))\n",
        "f2=int(input('Enter frequency 2\\t:'))\n",
        "t=np.linspace(-np.pi, np.pi,256)\n",
        "y=np.zeros(256)\n",
        "for i in range(128):\n",
        "y[i]=A*np.sin(2*np.pi*f1*t[i])\n",
        "for i in range(128,256):\n",
        "y[i]=A*np.sin(2*np.pi*f2*t[i])\n",
        "plt.plot(t,y)\n",
        "plt.show()\n",
        "#print(t)\n"
      ],
      "metadata": {
        "id": "t0DganLv73xy"
      },
      "execution_count": null,
      "outputs": []
    },
    {
      "cell_type": "code",
      "source": [
        "#The following code finds the FFT of this signal.\n",
        "#Code:\n",
        "sp = np.fft.fft(y)\n",
        "freq = np.fft.fftfreq(y.shape[-1])\n",
        "plt.plot(freq, sp.real, freq, sp.imag)\n",
        "plt.show()\n",
        "f=np.linspace(-3,3,256)\n",
        "mod1=[np.sqrt((i.real**2+i.imag**2)) for i in sp]\n",
        "mod2=np.abs(sp)\n",
        "plt.plot(f,mod2)\n"
      ],
      "metadata": {
        "id": "SwLTwcLo8Hvh"
      },
      "execution_count": null,
      "outputs": []
    },
    {
      "cell_type": "code",
      "source": [
        "#The following code finds the stftof the given signal.\n",
        "#Code:\n",
        "f, t,sp = signal.stft(y, 1000, nperseg=1000)\n",
        "#plt.plot(freq, sp.real, freq, sp.imag)\n",
        "plt.show()\n",
        "f=np.linspace(-3,3,256)\n",
        "mod1=[np.sqrt((i.real**2+i.imag**2)) for i in sp]\n",
        "mod2=np.abs(sp)\n",
        "plt.plot(f[127:],mod2[:,0])\n",
        "plt.show()\n",
        "plt.plot(f[127:],mod2[:,1])\n",
        "plt.show()\n",
        "plt.plot(f[127:],mod2[:,2])\n",
        "plt.show()\n"
      ],
      "metadata": {
        "id": "3eKGvJa48Ja2"
      },
      "execution_count": null,
      "outputs": []
    },
    {
      "cell_type": "code",
      "source": [
        "#Code:\n",
        "import pywt\n",
        "import cv2\n",
        "from matplotlib import pyplot as plt\n",
        "img= plt.imread('/content/Parrot.jpg')\n",
        "gray_img=cv2.cvtColor(img, cv2.COLOR_BGR2GRAY)\n",
        "coef=pywt.dwt2(gray_img, 'haar')\n",
        "LL, (LH, HL, HH)=coef\n"
      ],
      "metadata": {
        "id": "k6yG-Uul8YfB"
      },
      "execution_count": null,
      "outputs": []
    },
    {
      "cell_type": "code",
      "source": [
        "#The following code extracts patches from the given image using the above function.\n",
        "#Code:\n",
        "from sklearn.datasets import load_sample_image\n",
        "from sklearn.feature_extraction import image\n",
        "from matplotlib import pyplot as plt\n",
        "import numpy as np\n",
        "from skimage.color import rgb2gray\n",
        "img1=load_sample_image('flower.jpg')\n",
        "img1=rgb2gray(img1)\n",
        "plt.imshow(img1)\n",
        "plt.show()\n",
        "patches=image.extract_patches_2d(img1,(2,2))\n",
        "plt.imshow(patches[10000,:,:])\n",
        "plt.show()\n"
      ],
      "metadata": {
        "id": "jCwuiyB68j2p"
      },
      "execution_count": null,
      "outputs": []
    },
    {
      "cell_type": "code",
      "source": [
        "#Code:\n",
        "def lbp(new_image):\n",
        "  arr=np.zeros(new_image.shape)\n",
        "  result=0\n",
        "  for i in range(1, new_image.shape[0]-1):\n",
        "    for j in range(1, new_image.shape[1]-1):\n",
        "      n=new_image[i][j]\n",
        "      n1=new_image[i][j-1]>n\n",
        "      n2=new_image[i-1][j-1]>n\n",
        "      n3=new_image[i-1][j]>n\n",
        "      n4=new_image[i-1][j+1]>n\n",
        "      n5=new_image[i][j+1]>n\n",
        "      n6=new_image[i+1][j+1]>n\n",
        "      n7=new_image[i+1][j]>n\n",
        "      n8=new_image[i+1][j-1]>n\n",
        "      result=n1*pow(2,0)+n2*pow(2,1)+n3*pow(2,2)+n4*pow(2,3)+n5*pow(2,4)+n6*pow(2,5)+n7*pow(2,6)+n8*pow(2,7)\n",
        "      arr[i][j]=result\n",
        "  return arr\n"
      ],
      "metadata": {
        "id": "3bVD-ifh851r"
      },
      "execution_count": null,
      "outputs": []
    },
    {
      "cell_type": "code",
      "source": [
        "#Code:\n",
        "def rgb2gray(rgb):\n",
        "     r,g,b=rgb[:,:,0],rgb[:,:,1],rgb[:,:,2]\n",
        "     gray_img=0.2989*r+0.5870*g+0.1140*b\n",
        "     return gray_img\n",
        "#Original image\n",
        "data = load_sample_images()\n",
        "len(data.images)\n",
        "img1 = data.images[0]\n",
        "img1.shape\n",
        "plt.imshow(img1)\n"
      ],
      "metadata": {
        "id": "VqWolu8o9Og_"
      },
      "execution_count": null,
      "outputs": []
    },
    {
      "cell_type": "code",
      "source": [
        "#Finding HOG image\n",
        "img2=rgb2gray(img1)\n",
        "plt.imshow(img2)\n",
        "fd, hog_image = hog(img1, orientations=8, pixels_per_cell=(16, 16),cells_per_block=(1, 1), visualize=True, multichannel=True)\n",
        "plt.imshow(hog_image)\n"
      ],
      "metadata": {
        "id": "4KAqoAvm9b4B"
      },
      "execution_count": null,
      "outputs": []
    },
    {
      "cell_type": "code",
      "source": [
        "#The following steps will take you through the process of transforming the data using the principal component analysis:\n",
        "#Step 1: Import the following modules:\n",
        "fromsklearn.datasets import load_iris\n",
        "importnumpy as np\n",
        "frommatplotlib import pyplot as plt\n",
        "fromnumpy import linalg\n",
        "#Step 2: Find PCA:\n",
        "mean=np.mean(Data, axis=0)\n",
        "s=np.matmul(np.transpose(Data-mean),(Data-mean))\n",
        "val, vec=linalg.eig(s)\n",
        "Data_transformed=np.matmul(Data,vec)\n",
        "print(Data_transformed.shape)\n",
        "Data1=Data_transformed[50:100,:]\n",
        "Data2=Data_transformed[100:150,:]\n",
        "plt.plot(index,Data1[:,0],'rs')\n",
        "plt.plot(index,Data2[:,0],'bs',)\n",
        "plt.xlabel('Feature Number')\n",
        "plt.ylabel('Feature Value')\n",
        "plt.show()\n",
        "plt.plot(index,Data1[:,1],'rs')\n",
        "plt.plot(index,Data2[:,1],'bs',)\n",
        "plt.xlabel('Feature Number')\n",
        "plt.ylabel('Feature Value')\n",
        "plt.show()\n",
        "\n"
      ],
      "metadata": {
        "id": "Kja4OvWJ9crE"
      },
      "execution_count": null,
      "outputs": []
    },
    {
      "cell_type": "code",
      "source": [
        "#Code:\n",
        "img=plt.imread('download.jpg')\n",
        "gray=cv2.cvtColor(img, cv2.COLOR_BGR2GRAY)\n",
        "gray.shape\n",
        "glcm = graycomatrix(gray, distances=[1], angles=[0], levels=256)\n",
        "contrast=graycoprops(glcm, 'contrast')\n",
        "print(contrast)\n",
        "dissimilarity=graycoprops(glcm, 'dissimilarity')\n",
        "print(dissimilarity)\n",
        "homogeneity=graycoprops(glcm, 'homogeneity')\n",
        "print(homogeneity)\n",
        "energy=graycoprops(glcm, 'energy')\n",
        "print(energy)\n",
        "correlation=graycoprops(glcm, 'correlation')\n",
        "print(correlation)\n"
      ],
      "metadata": {
        "id": "3RaDcU0p9390"
      },
      "execution_count": null,
      "outputs": []
    }
  ]
}