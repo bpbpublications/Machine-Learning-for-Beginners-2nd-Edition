{
  "nbformat": 4,
  "nbformat_minor": 0,
  "metadata": {
    "colab": {
      "provenance": []
    },
    "kernelspec": {
      "name": "python3",
      "display_name": "Python 3"
    },
    "language_info": {
      "name": "python"
    }
  },
  "cells": [
    {
      "cell_type": "code",
      "execution_count": null,
      "metadata": {
        "id": "G0HmU6lldhPh"
      },
      "outputs": [],
      "source": [
        "#Code:\n",
        "data = datasets.load_iris()\n",
        "df = pd.DataFrame(data.data, columns = data.feature_names)\n",
        "target = data.target\n",
        "X_train, X_test, y_train, y_test =train_test_split(df, target, test_size=0.33, random_state=42)\n",
        "clf = DecisionTreeClassifier(max_depth=3) #max_depthis maximum number of levels in the tree\n",
        "clf.fit(X_train, y_train)\n",
        "y_pred=clf.predict(X_test)\n",
        "TP=0\n",
        "TN=0\n",
        "FP=0\n",
        "FN=0\n",
        "for i in range(X_test.shape[0]):\n",
        "    if(y_test[i]==y_pred[i]):\n",
        "        if(y_test[i]==1):\n",
        "            TP+=1\n",
        "        else:\n",
        "            TN+=1\n",
        "    else:\n",
        "        if(y_pred[i]==1):\n",
        "            FP+=1\n",
        "        else:\n",
        "            FN+=1\n",
        "acc=(TP+TN)/(TP+TN+FP+FN)\n",
        "print(acc)"
      ]
    },
    {
      "cell_type": "code",
      "source": [
        "#Code:\n",
        "breast_cancer = datasets.load_breast_cancer()\n",
        "df = pd.DataFrame(breast_cancer.data, columns = breast_cancer.feature_names)\n",
        "target = breast_cancer.target\n",
        "X_train, X_test, y_train, y_test =train_test_split(df, target, test_size=0.33, random_state=42)\n",
        "clf = DecisionTreeClassifier(max_depth=3) #max_depth is maximum number of levels in the tree\n",
        "clf.fit(X_train, y_train)\n",
        "y_pred=clf.predict(X_test)\n",
        "TP=0\n",
        "TN=0\n",
        "FP=0\n",
        "FN=0\n",
        "for i in range(X_test.shape[0]):\n",
        "    if(y_test[i]==y_pred[i]):\n",
        "        if(y_test[i]==1):\n",
        "            TP+=1\n",
        "        else:\n",
        "            TN+=1\n",
        "    else:\n",
        "        if(y_pred[i]==1):\n",
        "            FP+=1\n",
        "        else:\n",
        "            FN+=1\n",
        "acc=(TP+TN)/(TP+TN+FP+FN)\n",
        "print(acc)"
      ],
      "metadata": {
        "id": "ZdqJaNczdpaS"
      },
      "execution_count": null,
      "outputs": []
    }
  ]
}