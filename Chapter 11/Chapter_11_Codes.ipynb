{
  "nbformat": 4,
  "nbformat_minor": 0,
  "metadata": {
    "colab": {
      "provenance": []
    },
    "kernelspec": {
      "name": "python3",
      "display_name": "Python 3"
    },
    "language_info": {
      "name": "python"
    }
  },
  "cells": [
    {
      "cell_type": "code",
      "execution_count": null,
      "metadata": {
        "id": "weaXzKVOUA_X"
      },
      "outputs": [],
      "source": [
        "#Step 1: Import modules\n",
        "#The following modules need to be imported to classify the Breast Cancer dataset using SVM:\n",
        "import numpy as np\n",
        "from sklearn.svm import SVC\n",
        "from sklearn.datasets import load_breast_cancer\n",
        "from sklearn.model_selection import train_test_split\n",
        "\n",
        "#Step 2: Load data\n",
        "#The load_data function returns the data and the labels:\n",
        "def load_data():\n",
        "  Data=load_breast_cancer()\n",
        "  X=Data.data\n",
        "  y=Data.target\n",
        "  return (X, y)\n",
        "\n",
        "#Step 3: Evaluate performance\n",
        "#The cal_acc function calculates the accuracy by comparing the predicted values of the labels and the values of the labels of the test data:\n",
        "def cal_acc(y_test, y_predict):\n",
        "  tp=0\n",
        "  tn=0\n",
        "  fp=0\n",
        "  fn=0\n",
        "  s=np.shape(y_test)\n",
        "  for i in range (s[0]):\n",
        "    o1=y_predict[i]\n",
        "    y1=y_test[i]\n",
        "    if(o1==1 and y1==1):\n",
        "      tp+=1\n",
        "    elif(o1==0 and y1==0):\n",
        "      tn+=1\n",
        "    elif(o1==1 and y1==0):\n",
        "      fp+=1\n",
        "    else:\n",
        "      fn+=1\n",
        "  acc=(tp+tn)/(tp+tn+fp+fn)*100\n",
        "  return(acc)\n",
        "\n",
        "#Step 4: The model\n",
        "#The following code makes use of the above functions to classify the data:\n",
        "X, y=load_data()\n",
        "X_train, X_test, y_train, y_test=train_test_split(X, y, test_size=0.3, random_state=4)\n",
        "clf=SVC(kernel='linear') #gamma='auto'\n",
        "clf.fit(X_train, y_train)\n",
        "y_predict=clf.predict(X_test)\n",
        "accuracy=cal_acc(y_test, y_predict)\n"
      ]
    },
    {
      "cell_type": "code",
      "source": [
        "#Experiment 2: Classification of Breast Cancer Dataset using SVM, Linear Kernel, K-Fold\n",
        "#The load_data and cal_acc functions of Experiment 1 are used in the following code. The reader is expected to write the functions again. The code that uses K-Fold split and calculates the average accuracy is as follows:\n",
        "kf=KFold(n_splits=5)\n",
        "kf\n",
        "kf.get_n_splits(X)\n",
        "acc=[]\n",
        "for train_i,test_i in kf.split(X):\n",
        "  X_train,X_test=X[train_i],X[test_i]\n",
        "  y_train,y_test=y[train_i],y[test_i]\n",
        "  clf=SVC(kernel='linear') #gamma='auto'\n",
        "  clf.fit(X_train, y_train)\n",
        "  y_predict=clf.predict(X_test)\n",
        "  accuracy=cal_acc(y_test, y_predict)\n",
        "  acc.append(accuracy)\n",
        "print(np.mean(acc))\n"
      ],
      "metadata": {
        "id": "7-1xoX-wUm5V"
      },
      "execution_count": null,
      "outputs": []
    },
    {
      "cell_type": "code",
      "source": [
        "#Experiment 3:\n",
        "#The following code classifies two sets of images using SVM. The required modules can be imported using the following code:\n",
        "from matplotlib import pyplot as plt\n",
        "import matplotlib.image as mpimg\n",
        "import numpy as np\n",
        "from sklearn import svm\n",
        "from sklearn.model_selection import train_test_split\n",
        "\n",
        "#The images can be converted to grayscale using the following function:\n",
        "def rgb2gray(rgb):\n",
        "  return np.dot(rgb[...,:3], [0.2989, 0.5870, 0.1140])\n",
        "\n",
        "#The perf_measure function finds the performance of the model. It takes test_y and y_predicted as parameters:\n",
        "def perf_measure(test_y,y_predicted):\n",
        "tp=0\n",
        "tn=0\n",
        "fp=0\n",
        "fn=0\n",
        "for i in range(len(test_y)):\n",
        "  predicted=y_predicted[i]\n",
        "  actual=test_y[i]\n",
        "  if(predicted==actual):\n",
        "    if(predicted==1):\n",
        "    tp+=1\n",
        "  else:\n",
        "    tn+=1\n",
        "  else:\n",
        "  if(predicted==1):\n",
        "    fp+=1\n",
        "  else:\n",
        "    fn+=1\n",
        "acc=(tp+tn)/  (tp+tn+fp+fn)\n",
        "sens=(tp)/(tp+fn)\n",
        "spec=(tn)/(tn+fp)\n",
        "return (acc,sens,spec)\n",
        "\n",
        "#Suppose you have 20 images of class I and 20 images of class II, the following code would help you to classify the images, assuming that you have saved the image data in final_data. Note that the following code uses a linear kernel:\n",
        "y1=np.zeros((20,1))\n",
        "y2=np.ones((20,1))\n",
        "y=np.vstack((y1,y2))\n",
        "train_X,test_X,train_y,test_y=train_test_split(final_data, y, test_size=0.3)\n",
        "clf = svm.SVC(kernel=\"linear\")\n",
        "clf.fit(train_X,train_y)\n",
        "y_predicted=clf.predict(test_X)\n",
        "acc,sens,spec=perf_measure(test_y,y_predicted)\n"
      ],
      "metadata": {
        "id": "Q81QgW__Uymx"
      },
      "execution_count": null,
      "outputs": []
    },
    {
      "cell_type": "code",
      "source": [],
      "metadata": {
        "id": "U5pQ_L1YVDxn"
      },
      "execution_count": null,
      "outputs": []
    }
  ]
}