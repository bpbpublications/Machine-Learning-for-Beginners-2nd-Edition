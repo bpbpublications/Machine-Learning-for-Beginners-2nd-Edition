{
  "nbformat": 4,
  "nbformat_minor": 0,
  "metadata": {
    "colab": {
      "provenance": []
    },
    "kernelspec": {
      "name": "python3",
      "display_name": "Python 3"
    },
    "language_info": {
      "name": "python"
    }
  },
  "cells": [
    {
      "cell_type": "code",
      "execution_count": null,
      "metadata": {
        "id": "8P-LYeUAf1eA"
      },
      "outputs": [],
      "source": [
        "#Code:\n",
        "\n",
        "#Importing the libraries\n",
        "\n",
        "from sklearn.cluster import KMeans\n",
        "import numpy as np\n",
        "from matplotlib import pyplot as plt\n",
        "from skimage import data\n",
        "\n",
        "#2. Loading image\n",
        "\n",
        "img1 = data.camera()\n",
        "plt.imshow(img1)\n",
        "print(img1.shape)\n"
      ]
    },
    {
      "cell_type": "code",
      "source": [
        "#Code:\n",
        "\n",
        "X = np.array(np.reshape(img1, (img1.shape[0]*img1.shape[1], 1)))\n",
        "print(X.shape)\n",
        "kmeans = KMeans(n_clusters=2, random_state=0, n_init=\"auto\").fit(X)\n",
        "out1 = kmeans.labels_\n",
        "print(out1.shape)\n",
        "out2 = np.reshape(out1,(img1.shape[0], img1.shape[1]))\n",
        "print(out2.shape)\n",
        "plt.imshow(out2)\n"
      ],
      "metadata": {
        "id": "44yQl2Bhf4ig"
      },
      "execution_count": null,
      "outputs": []
    },
    {
      "cell_type": "code",
      "source": [
        "#Code:\n",
        "\n",
        "X = np.array(np.reshape(img1, (img1.shape[0]*img1.shape[1], 1)))\n",
        "print(X.shape)\n",
        "kmeans = KMeans(n_clusters=3, random_state=0, n_init=\"auto\").fit(X)\n",
        "out1 = kmeans.labels_\n",
        "print(out1.shape)\n",
        "out2 = np.reshape(out1,(img1.shape[0], img1.shape[1]))\n",
        "print(out2.shape)\n",
        "plt.imshow(out2)\n"
      ],
      "metadata": {
        "id": "--N_fiLkgF4e"
      },
      "execution_count": null,
      "outputs": []
    },
    {
      "cell_type": "code",
      "source": [
        "#Code:\n",
        "\n",
        "centers = kmeans.cluster_centers_\n",
        "print(centers)\n",
        "WCSS=0\n",
        "for i in range(X.shape[0]):\n",
        "  if(out1[i]==0):\n",
        "    WCSS += (X[i,0]-centers[0][0])**2\n",
        "  elif(out1[i]==1):\n",
        "    WCSS += (X[i,0]-centers[1][0])**2\n",
        "  else:\n",
        "    WCSS += (X[i,0]-centers[2][0])**2\n",
        "print(WCSS)\n"
      ],
      "metadata": {
        "id": "4U0I3f_ZgLhi"
      },
      "execution_count": null,
      "outputs": []
    },
    {
      "cell_type": "code",
      "source": [
        "wcss = []\n",
        "for i in range(1, 11):\n",
        "kmeans = KMeans(n_clusters = i, init = 'k-means++', random_state = 1)\n",
        "kmeans.fit(X)\n",
        "wcss.append(kmeans.inertia_)\n",
        "X1 = np.arange(10)\n",
        "plt.plot(X1, wcss)\n",
        "plt.show()"
      ],
      "metadata": {
        "id": "HpggN1_9gNNp"
      },
      "execution_count": null,
      "outputs": []
    },
    {
      "cell_type": "code",
      "source": [
        "#Experiment 1\n",
        "#Importing the modules:\n",
        "\n",
        "import numpy as np\n",
        "import matplotlib.pyplot as plt\n",
        "from sklearn.cluster import KMeans\n",
        "from sklearn.datasets import make_blobs\n",
        "\n",
        "#Generating data for clustering:\n",
        "\n",
        "n_samples = 200\n",
        "random_state = 10\n",
        "X, y = make_blobs(n_samples=n_samples, random_state=random_state)\n",
        "\n",
        "#Applying sklearn.KMeans to predict the clusters:\n",
        "\n",
        "y_predicted = KMeans(n_clusters=3, random_state=random_state).fit_predict(X)\n",
        "plt.scatter(X[:, 0], X[:, 1], c=y_predicted)\n",
        "plt.title(\"K Means Clustering I\")\n",
        "plt.show()\n"
      ],
      "metadata": {
        "id": "nqhpBWVogQbd"
      },
      "execution_count": null,
      "outputs": []
    },
    {
      "cell_type": "code",
      "source": [
        "#Experiment 2\n",
        "\n",
        "#Step 1 and Step 2 of Experiment 1 to be used on as-it-is basis:\n",
        "\n",
        "X_1, y_1 = make_blobs(n_samples=n_samples, cluster_std=[1, 0.5, 3.0], random_state=random_state)\n",
        "y_predicted = KMeans(n_clusters=3, random_state=random_state).fit_predict(X_1)\n",
        "plt.scatter(X_1[:, 0], X_1[:, 1], c=y_predicted)\n",
        "plt.title(\"K Means II\")\n",
        "plt.show()\n"
      ],
      "metadata": {
        "id": "2clR9TDMgdqa"
      },
      "execution_count": null,
      "outputs": []
    },
    {
      "cell_type": "code",
      "source": [
        "#Experiment 3\n",
        "#Step 1 and Step 2 of Experiment 1 to be used on as-it-is basis:\n",
        "\n",
        "X_not_balanced = np.vstack((X[y == 0][:500], X[y == 1][:200], X[y == 2][:10]))\n",
        "y_predicted = KMeans(n_clusters=3,random_state=random_state).fit_predict(X_not_balanced)\n",
        "plt.scatter(X_not_balanced[:, 0], X_not_balanced[:, 1], c=y_pred)\n",
        "plt.title(\"Blobs having differnt number of elements\")\n",
        "plt.show()\n"
      ],
      "metadata": {
        "id": "BIR5kecqgoSV"
      },
      "execution_count": null,
      "outputs": []
    },
    {
      "cell_type": "code",
      "source": [
        "#Experiment 4\n",
        "\n",
        "#Importing the modules:\n",
        "\n",
        "import numpy as np\n",
        "import matplotlib.pyplot as plt\n",
        "from sklearn.cluster import SpectralClustering\n",
        "from sklearn.datasets import make_blobs\n",
        "\n",
        "#Generating data for clustering\n",
        "\n",
        "n_samples = 200\n",
        "random_state = 10\n",
        "X, y = make_blobs(n_samples=n_samples, random_state=random_state)\n",
        "\n",
        "#Applying sklearn. SpectralClustering to predict the clusters:\n",
        "y_predicted = SpectralClustering(n_clusters=3, random_state=random_state).fit_predict(X)\n",
        "plt.scatter(X[:, 0], X[:, 1], c=y_predicted)\n",
        "plt.title(\"Spectral Clustering\")\n",
        "plt.show()\n"
      ],
      "metadata": {
        "id": "FLtKotRjgvAc"
      },
      "execution_count": null,
      "outputs": []
    },
    {
      "cell_type": "code",
      "source": [
        "#Experiment 5\n",
        "#Step 1 and Step 2 of Experiment 4 to be used on as-it-is basis:\n",
        "\n",
        "X_1, y_1 = make_blobs(n_samples=n_samples, cluster_std=[1, 0.5, 3.0], random_state=random_state)\n",
        "y_predicted = SpectralClustering(n_clusters=3, random_state=random_state).fit_predict(X_1)\n",
        "plt.scatter(X_1[:, 0], X_1[:, 1], c=y_predicted)\n",
        "plt.title(\"Spectral Clustering II\")\n",
        "plt.show()\n",
        "\n"
      ],
      "metadata": {
        "id": "ydXMv4XCg3sM"
      },
      "execution_count": null,
      "outputs": []
    },
    {
      "cell_type": "code",
      "source": [
        "#Experiment 6\n",
        "#Step 1 and Step 2 of Experiment 4 to be used on as-it-is basis:\n",
        "\n",
        "X_not_balanced = np.vstack((X[y == 0][:500], X[y == 1][:200], X[y == 2][:10]))\n",
        "y_predicted= SpectralClustering(n_clusters=3,random_state=random_state).fit_predict(X_not_balanced)\n",
        "plt.scatter(X_not_balanced[:, 0], X_not_balanced[:, 1], c=y_predicted)\n",
        "plt.title(\"Blobs having unequal number of elements in each cluster\")\n",
        "plt.show()\n"
      ],
      "metadata": {
        "id": "eOxfsjjjg3yJ"
      },
      "execution_count": null,
      "outputs": []
    },
    {
      "cell_type": "code",
      "source": [
        "#Experiment 7\n",
        "\n",
        "#Importing the modules:\n",
        "\n",
        "import numpy as np\n",
        "import matplotlib.pyplot as plt\n",
        "from sklearn.cluster import AgglomerativeClustering\n",
        "from sklearn.datasets import make_blobs\n",
        "\n",
        "#Generating data for clustering:\n",
        "\n",
        "n_samples = 200\n",
        "random_state = 10\n",
        "X, y = make_blobs(n_samples=n_samples, random_state=random_state)\n",
        "\n",
        "#Applying sklearn. AgglomerativeClustering to predict the clusters\n",
        "\n",
        "y_predicted = AgglomerativeClustering(n_clusters=3).fit_predict(X)\n",
        "plt.scatter(X[:, 0], X[:, 1], c=y_predicted)\n",
        "plt.title(\"Agglomerative Clustering\")\n",
        "plt.show()\n",
        "\n"
      ],
      "metadata": {
        "id": "TSGJwawDg334"
      },
      "execution_count": null,
      "outputs": []
    },
    {
      "cell_type": "code",
      "source": [
        "#Experiment 8\n",
        "#Step 1 and Step 2 of Experiment 7 to be used on as-it-is basis:\n",
        "\n",
        "X_1, y_1 = make_blobs(n_samples=n_samples, cluster_std=[1,0.5,3.0], random_state=random_state)\n",
        "y_predicted = AgglomerativeClustering(n_clusters=3).fit_predict(X_1)\n",
        "plt.scatter(X_1[:, 0], X_1[:, 1], c=y_predicted)\n",
        "plt.title(\"Agglomerative Clustering II\")\n",
        "plt.show()\n",
        "\n"
      ],
      "metadata": {
        "id": "RvIgralRhNx6"
      },
      "execution_count": null,
      "outputs": []
    },
    {
      "cell_type": "code",
      "source": [
        "#Experiment 9\n",
        "#Step 1 and Step 2 of Experiment 1 to be used on as-it-is basis:\n",
        "\n",
        "X_1, y_1 = make_blobs(n_samples=n_samples, cluster_std=[1,0.5,3.0], random_state=random_state)\n",
        "y_predicted = AgglomerativeClustering(n_clusters=3).fit_predict(X_1)\n",
        "plt.scatter(X_1[:, 0], X_1[:, 1], c=y_predicted)\n",
        "plt.title(\"Agglomerative Clustering II\")\n",
        "plt.show()\n"
      ],
      "metadata": {
        "id": "FxDO0qWShY8Y"
      },
      "execution_count": null,
      "outputs": []
    },
    {
      "cell_type": "code",
      "source": [
        "#Consider the following code:\n",
        "#Step 1: Include the modules:\n",
        "\n",
        "import numpy as np\n",
        "import matplotlib.pyplot as plt\n",
        "from sklearn.cluster import AgglomerativeClustering\n",
        "from sklearn.datasets import make_moons\n",
        "\n",
        "#Step 2: Apply AgglomerativeClustering:\n",
        "\n",
        "n= 200\n",
        "random_state = 10\n",
        "X, y = make_moons(n_samples=n, random_state=random_state)\n",
        "y_pred = AgglomerativeClustering(n_clusters=2).fit_predict(X)\n",
        "plt.scatter(X[:, 0], X[:, 1], c=y_pred)\n",
        "plt.title(\"Agglomerative Clustering applied to make_moons\")\n",
        "plt.show()\n"
      ],
      "metadata": {
        "id": "LKzithBUhZBz"
      },
      "execution_count": null,
      "outputs": []
    }
  ]
}