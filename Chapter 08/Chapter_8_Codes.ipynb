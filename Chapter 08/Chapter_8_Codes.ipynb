{
  "nbformat": 4,
  "nbformat_minor": 0,
  "metadata": {
    "colab": {
      "provenance": []
    },
    "kernelspec": {
      "name": "python3",
      "display_name": "Python 3"
    },
    "language_info": {
      "name": "python"
    }
  },
  "cells": [
    {
      "cell_type": "code",
      "execution_count": null,
      "metadata": {
        "id": "arcUbsOFPqj4"
      },
      "outputs": [],
      "source": [
        "from sklearn.datasets import load_iris\n",
        "from sklearn.linear_model import LogisticRegression\n",
        "from sklearn.model_selection import train_test_split\n",
        "import numpy as np"
      ]
    },
    {
      "cell_type": "code",
      "source": [
        "clf=LogisticRegression()\n",
        "clf.fit(X_train,y_train)\n",
        "y_pred=clf.predict(X_test)"
      ],
      "metadata": {
        "id": "rOwR5WYqQU9M"
      },
      "execution_count": null,
      "outputs": []
    },
    {
      "cell_type": "code",
      "source": [
        "from sklearn.datasets import load_breast_cancer\n",
        "from sklearn.naive_bayes import GaussianNB\n",
        "from sklearn.model_selection import KFold\n",
        "import numpy as np\n"
      ],
      "metadata": {
        "id": "FThQavTVQbQ-"
      },
      "execution_count": null,
      "outputs": []
    },
    {
      "cell_type": "code",
      "source": [
        "def cal_acc(y_pred, y_test):\n",
        "  TP=0\n",
        "  TN=0\n",
        "  FP=0\n",
        "  FN=0\n",
        "  for i in range(len(y_test)):\n",
        "    if(y_test[i]==y_pred[i]):\n",
        "      if(y_pred[i]==1):\n",
        "          TP+=1\n",
        "      else:\n",
        "          TN+=1\n",
        "    else:\n",
        "      if(y_pred[i]==1):\n",
        "          FP+=1\n",
        "      else:\n",
        "        FN+=1\n",
        "  return(TP, TN, FP, FN)\n"
      ],
      "metadata": {
        "id": "RezVBtJFQdwr"
      },
      "execution_count": null,
      "outputs": []
    },
    {
      "cell_type": "code",
      "source": [
        "acc=[]\n",
        "Data=load_breast_cancer()\n",
        "X=Data.data\n",
        "y=Data.target\n",
        "kf = KFold(n_splits=5)\n",
        "kf.get_n_splits(X)\n",
        "fortrain_index, test_index in kf.split(X):\n",
        "X_train, X_test = X[train_index], X[test_index]\n",
        "y_train, y_test = y[train_index], y[test_index]\n",
        "clf = GaussianNB()\n",
        "clf.fit(X_train,y_train)\n",
        "y_pred=clf.predict(X_test)\n",
        "TP, TN, FP, FN=cal_acc(y_pred, y_test)\n",
        "accuracy=(TP+TN)/(TP+TN+FP+FN)\n",
        "acc.append(accuracy)\n",
        "av_acc=np.mean(acc)\n",
        "print(av_acc)"
      ],
      "metadata": {
        "id": "BoOTNw_DQ3qV"
      },
      "execution_count": null,
      "outputs": []
    }
  ]
}